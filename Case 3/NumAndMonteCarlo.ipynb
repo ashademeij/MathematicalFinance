{
 "cells": [
  {
   "cell_type": "code",
   "execution_count": 30,
   "metadata": {},
   "outputs": [],
   "source": [
    "import numpy as np\n",
    "import matplotlib.pyplot as plt\n",
    "import math\n",
    "from scipy.stats import norm\n",
    "from scipy import stats"
   ]
  },
  {
   "cell_type": "markdown",
   "metadata": {},
   "source": [
    "# Case 3: Numéraires in a Binomial Tree & Monte Carlo"
   ]
  },
  {
   "cell_type": "markdown",
   "metadata": {},
   "source": [
    "## Part 1: Numéraires in binomial Tree"
   ]
  },
  {
   "cell_type": "code",
   "execution_count": 31,
   "metadata": {},
   "outputs": [],
   "source": [
    "r = 0.01       \n",
    "sigma = 0.15   \n",
    "T = 10          \n",
    "t = 0          \n",
    "n = 100\n",
    "guarantee = 100\n",
    "S0 = 100"
   ]
  },
  {
   "cell_type": "code",
   "execution_count": 3,
   "metadata": {},
   "outputs": [
    {
     "name": "stdout",
     "output_type": "stream",
     "text": [
      "Option Price normal Binomial Model: 113.45806426770127\n"
     ]
    }
   ],
   "source": [
    "def binomialTree_ORIGINAL(r, sigma, T, guarantee, n):\n",
    "\n",
    "    dt = T / n\n",
    "    R_dt = np.exp(r * dt)\n",
    "\n",
    "    u = R_dt * np.exp(sigma * np.sqrt(dt))\n",
    "    d = R_dt * np.exp(- sigma * np.sqrt(dt))\n",
    "    \n",
    "    p = (R_dt - d) / (u - d)\n",
    "    q = 1 - p\n",
    "\n",
    "    # Stock price \n",
    "    stockValues = 100 * u**np.arange(n + 1) * d**(n - np.arange(n + 1))\n",
    "\n",
    "    # option prices\n",
    "    contractPrice = np.maximum(stockValues, guarantee)\n",
    "\n",
    "    for i in np.arange(n,0,-1):\n",
    "        contractPrice = (1/R_dt) * (p * contractPrice[1:i+1] + q * contractPrice[0:i])\n",
    "\n",
    "    return contractPrice[0]\n",
    "\n",
    "option_price = binomialTree_ORIGINAL(r, sigma, T, guarantee, n)\n",
    "print(\"Option Price normal Binomial Model:\", option_price)"
   ]
  },
  {
   "cell_type": "code",
   "execution_count": null,
   "metadata": {},
   "outputs": [],
   "source": [
    "# CASE 1: Numeraire = Bank Account\n",
    "\n",
    "def binomialTree_BankNum(r, sigma, T, guarantee, n):\n",
    "    dt = T / n\n",
    "    R_dt = np.exp(r * dt)\n",
    "\n",
    "    u = R_dt * np.exp(sigma * np.sqrt(dt))\n",
    "    d = R_dt * np.exp(-sigma * np.sqrt(dt))\n",
    "    \n",
    "    # probability with bank as numéraire\n",
    "    p_star = (R_dt - d) / (u - d)\n",
    "\n",
    "    # bank account values\n",
    "    BankValue = 100 * R_dt ** np.arange(n + 1)\n",
    "\n",
    "    # Stock prices\n",
    "    stockValues = 100 * u**np.arange(n + 1) * d**(n - np.arange(n + 1))\n",
    "\n",
    "    # option prices \n",
    "    contractPrice = np.maximum(stockValues, guarantee)\n",
    "\n",
    "    for i in np.arange(n, 0, -1):\n",
    "        contractPrice = ((p_star * contractPrice[1:i+1] + (1 - p_star) * contractPrice[0:i] ) / BankValue[i]) * BankValue[i-1]\n",
    "\n",
    "    return contractPrice[0]"
   ]
  },
  {
   "cell_type": "code",
   "execution_count": 46,
   "metadata": {},
   "outputs": [],
   "source": [
    "# CASE 1: Numeraire = Bank Account\n",
    "\n",
    "def binomialTree_BankNum(r, sigma, T, guarantee, n):\n",
    "    dt = T / n\n",
    "    R_dt = np.exp(r * dt)\n",
    "\n",
    "    u = R_dt * np.exp(sigma * np.sqrt(dt))\n",
    "    d = R_dt * np.exp(-sigma * np.sqrt(dt))\n",
    "    \n",
    "    # Adjusted probability with bank as numéraire\n",
    "    p_star = (R_dt - d) / (u - d)\n",
    "    numMaturity = np.exp(r * T)\n",
    "\n",
    "\n",
    "    # bank account values\n",
    "    BankValue = 100 * R_dt ** np.arange(n + 1)\n",
    "\n",
    "    # Stock prices\n",
    "    stockValues = 100 * u**np.arange(n + 1) * d**(n - np.arange(n + 1))\n",
    "\n",
    "    # option prices \n",
    "    contractPrice = np.maximum(stockValues, guarantee)/numMaturity\n",
    "\n",
    "    for i in np.arange(n, 0, -1):\n",
    "        contractPrice = (p_star * contractPrice[1:i+1] + (1 - p_star) * contractPrice[0:i] )\n",
    "\n",
    "    return contractPrice[0]"
   ]
  },
  {
   "cell_type": "code",
   "execution_count": 47,
   "metadata": {},
   "outputs": [
    {
     "name": "stdout",
     "output_type": "stream",
     "text": [
      "Option Price with bank account as numéraire: 113.45806426770213\n"
     ]
    }
   ],
   "source": [
    "price = binomialTree_BankNum(r, sigma, T, guarantee, n) \n",
    "print(\"Option Price with bank account as numéraire:\", price)"
   ]
  },
  {
   "cell_type": "code",
   "execution_count": null,
   "metadata": {},
   "outputs": [],
   "source": [
    "def binomialTree_StockAsNumeraire(r, sigma, T, guarantee, n):\n",
    "    dt = T / n\n",
    "    R_dt = np.exp(r * dt)\n",
    "\n",
    "    u = R_dt * np.exp(sigma * np.sqrt(dt))\n",
    "    d = R_dt * np.exp(-sigma * np.sqrt(dt))\n",
    "\n",
    "    p_star = ((R_dt - d) * u) / ((u - d) * R_dt)\n",
    "\n",
    "    # Stock price \n",
    "    stockValues = 100 * u**np.arange(n + 1) * d**(n - np.arange(n + 1))\n",
    "\n",
    "    # option prices \n",
    "    contractPrice = np.maximum(stockValues, guarantee)\n",
    "\n",
    "    for i in np.arange(n, 0, -1):\n",
    "        contractPrice = (p_star * contractPrice[1:i+1] / stockValues[1:i+1] + \n",
    "                         (1 - p_star) * contractPrice[0:i] / stockValues[0:i]) * (stockValues[1:i+1] / u)\n",
    "\n",
    "    return contractPrice[0]"
   ]
  },
  {
   "cell_type": "code",
   "execution_count": 42,
   "metadata": {},
   "outputs": [],
   "source": [
    "def binomialTree_StockAsNumeraire(r, sigma, T, guarantee, n):\n",
    "    dt = T/n\n",
    "    R_dt = np.exp(r * dt)\n",
    "\n",
    "    u = R_dt * np.exp(sigma * np.sqrt(dt))\n",
    "    d = R_dt * np.exp(-sigma * np.sqrt(dt))\n",
    "\n",
    "\n",
    "    pstar1 = ((R_dt-d)*R_dt) / ((u-d)*R_dt)\n",
    "    pstar2 = ((u-R_dt)*R_dt) / ((u-d)*R_dt)\n",
    "\n",
    "    # Stock price \n",
    "    stock = 100 * u ** np.arange(0,n+1,1) * d ** np.arange(n,-1,-1)\n",
    "\n",
    "    # option prices \n",
    "    contractPrice = np.maximum(guarantee, stock)\n",
    "\n",
    "    for i in np.arange(n,0,-1):\n",
    "        contractPrice = (pstar1 * contractPrice[1:i+1] + pstar2 * contractPrice[0:i]) / R_dt\n",
    "\n",
    "    return contractPrice[0]"
   ]
  },
  {
   "cell_type": "code",
   "execution_count": 48,
   "metadata": {},
   "outputs": [
    {
     "name": "stdout",
     "output_type": "stream",
     "text": [
      "Option Price with Stock as numéraire: 113.45806426770045\n"
     ]
    }
   ],
   "source": [
    "price = binomialTree_StockAsNumeraire(r, sigma, T, guarantee, n)\n",
    "print(\"Option Price with Stock as numéraire:\", price)"
   ]
  },
  {
   "cell_type": "markdown",
   "metadata": {},
   "source": [
    "Comapre for diff time steps!!! maybe up to 1 000 000 "
   ]
  },
  {
   "cell_type": "markdown",
   "metadata": {},
   "source": [
    "## Part 2: Monte Carlo Simulation"
   ]
  },
  {
   "cell_type": "code",
   "execution_count": 4,
   "metadata": {},
   "outputs": [],
   "source": [
    "r = 0.01       \n",
    "sigma = 0.15   \n",
    "T = 10          \n",
    "t = 0          \n",
    "n = 100\n",
    "K = 100\n",
    "S0 = 100\n",
    "N = 10\n",
    "M = 100000"
   ]
  },
  {
   "cell_type": "code",
   "execution_count": 5,
   "metadata": {},
   "outputs": [
    {
     "name": "stdout",
     "output_type": "stream",
     "text": [
      "Price of the UL Contract: 113.55626126248505\n"
     ]
    }
   ],
   "source": [
    "def MonteCarloSimulation(S0, T, r, sigma, N, M, K):\n",
    "    np.random.seed(30)\n",
    "\n",
    "    dt = T / N\n",
    "    \n",
    "    # computing Stock prices\n",
    "    stockPrices = np.zeros(M)\n",
    "    \n",
    "    # Monte Carlo simulation\n",
    "    for i in range(M):\n",
    "        x = S0  \n",
    "        for t in range(N):\n",
    "            epsilon = np.random.normal(0, 1)  # Random standard normal variable\n",
    "            x *= np.exp((r - 0.5 * sigma**2) * dt + sigma * np.sqrt(dt) * epsilon)  # Update price\n",
    "        stockPrices[i] = x  # Store final price\n",
    "    \n",
    "    # Calculate the expected payoff with guarantee\n",
    "    optionPrice = np.maximum(stockPrices, K)\n",
    "    \n",
    "    # Discount the expected payoff to get the contract price\n",
    "    optionPrice = np.exp(-r * T) * np.mean(optionPrice)\n",
    "    \n",
    "    \n",
    "    return optionPrice\n",
    "\n",
    "optionPrice = MonteCarloSimulation(S0, T, r, sigma, N, M, K)\n",
    "print(\"Price of the UL Contract:\", optionPrice)\n",
    "\n",
    "# Price of the UL Contract M = 100 000: 113.54369591297512\n",
    "# Price of the UL Contract M = 1 000 000: 113.54369591297512\n"
   ]
  },
  {
   "cell_type": "code",
   "execution_count": null,
   "metadata": {},
   "outputs": [
    {
     "name": "stdout",
     "output_type": "stream",
     "text": [
      "Price of the UL Contract: 105.58333385800243\n",
      "Standard Error: nan\n",
      "Price of the UL Contract ± SE: 105.58333385800243 ± nan\n"
     ]
    },
    {
     "name": "stderr",
     "output_type": "stream",
     "text": [
      "/Users/ashademeij/.pyenv/versions/3.9.18/lib/python3.9/site-packages/numpy/_core/fromnumeric.py:4006: RuntimeWarning: Degrees of freedom <= 0 for slice\n",
      "  return var(axis=axis, dtype=dtype, out=out, ddof=ddof, **kwargs)\n",
      "/Users/ashademeij/.pyenv/versions/3.9.18/lib/python3.9/site-packages/numpy/_core/_methods.py:210: RuntimeWarning: invalid value encountered in scalar divide\n",
      "  ret = ret.dtype.type(ret / rcount)\n"
     ]
    }
   ],
   "source": [
    "def MonteCarloSimulationWithSE(S0, T, r, sigma, N, M, guarantee):\n",
    "    np.random.seed(30)\n",
    "\n",
    "    dt = T / N\n",
    "    x0 = S0\n",
    "    \n",
    "    # Compute stock prices\n",
    "    stockPrices = np.zeros(M)\n",
    "    \n",
    "    # Monte Carlo simulation\n",
    "    for i in range(M):\n",
    "        x = x0  \n",
    "        for t in range(N):\n",
    "            epsilon = np.random.normal(0, 1)  # Random standard normal variable\n",
    "            x *= np.exp((r - 0.5 * sigma**2) * dt + sigma * np.sqrt(dt) * epsilon)  # Update price\n",
    "        stockPrices[i] = x  # Store final price\n",
    "    \n",
    "    # Calculate the expected payoff with guarantee\n",
    "    optionPrice = np.maximum(stockPrices, guarantee)\n",
    "    \n",
    "    # Discount the expected payoff\n",
    "    optionPrice = np.exp(-r * T) * np.mean(optionPrice)\n",
    "    \n",
    "    # Calculate the standard error\n",
    "    variance = np.var(optionPrice, ddof=1)\n",
    "    SE = np.sqrt(variance / M)\n",
    "    \n",
    "    print(\"Price of the UL Contract:\", optionPrice)\n",
    "    print(\"Standard Error:\", SE)\n",
    "    print(\"Price of the UL Contract ± SE:\", optionPrice, \"±\", SE)\n",
    "    \n",
    "    return optionPrice, SE\n",
    "\n",
    "# Example usage\n",
    "S0 = 100  # Example initial stock price\n",
    "T = 1     # Example time to maturity in years\n",
    "r = 0.05  # Example risk-free rate\n",
    "sigma = 0.2  # Example volatility\n",
    "N = 10\n",
    "M = 100000\n",
    "guarantee = 100\n",
    "\n",
    "optionPrice, SE = MonteCarloSimulationWithSE(S0, T, r, sigma, N, M, guarantee)\n"
   ]
  },
  {
   "cell_type": "markdown",
   "metadata": {},
   "source": [
    "# Monte Carlo 2.0"
   ]
  },
  {
   "cell_type": "code",
   "execution_count": 20,
   "metadata": {},
   "outputs": [],
   "source": [
    "S0 = 100  # Initial stock price\n",
    "K = 100   # Guaranteed amount\n",
    "T = 10    # Time to maturity\n",
    "r = 0.01  # Risk-free rate\n",
    "sigma = 0.15  # Volatility\n",
    "M = 1000000\n",
    "N = 10"
   ]
  },
  {
   "cell_type": "code",
   "execution_count": null,
   "metadata": {},
   "outputs": [],
   "source": [
    "def MonteCarloSimulation(S0, T, r, sigma, N, M, guarantee):\n",
    "    \n",
    "    dt = T/N\n",
    "    Z = np.random.normal(0, 1, (M, N)) # random paths\n",
    "\n",
    "    # Stock prices\n",
    "    S = np.zeros((M, N+1))\n",
    "    S[:, 0] = S0\n",
    "\n",
    "    # Monte Carlo simulation\n",
    "    for t in range(1, N+1):\n",
    "        S[:, t] = S[:, t-1] * np.exp((r - 0.5*sigma**2)*dt + sigma*np.sqrt(dt)*Z[:, t-1])\n",
    "    \n",
    "    # Calculate payoff\n",
    "    optionPrice = np.maximum(S[:, -1], guarantee)\n",
    "    \n",
    "    # Discount payoffs\n",
    "    optionPriceFinal = np.exp(-r*T) * np.mean(optionPrice)\n",
    "    SE = np.exp(-r*T) * np.std(optionPrice) / np.sqrt(M)\n",
    "    \n",
    "    return optionPriceFinal, SE\n"
   ]
  },
  {
   "cell_type": "code",
   "execution_count": 50,
   "metadata": {},
   "outputs": [
    {
     "name": "stdout",
     "output_type": "stream",
     "text": [
      "Price of the UL Contract:  113.53819813721914 ± 0.03992153281988719\n"
     ]
    }
   ],
   "source": [
    "optionPrice, SE = MonteCarloSimulation(S0, T, r, sigma, N, M, guarantee)\n",
    "print(\"Price of the UL Contract: \", optionPrice, \"±\", SE)"
   ]
  },
  {
   "cell_type": "markdown",
   "metadata": {},
   "source": [
    "# Questions"
   ]
  },
  {
   "cell_type": "markdown",
   "metadata": {},
   "source": [
    "**Question 1:** Investigate the convergence behaviour for increasing number of paths 𝑀. (Confirm the 𝒪(𝑀−1/2) convergence rate.)"
   ]
  },
  {
   "cell_type": "code",
   "execution_count": null,
   "metadata": {},
   "outputs": [
    {
     "name": "stdout",
     "output_type": "stream",
     "text": [
      "M=100: Price=111.6492, Std Error=3.8328\n",
      "M=1000: Price=111.0963, Std Error=1.1384\n",
      "M=5000: Price=113.7796, Std Error=0.5621\n",
      "M=10000: Price=113.1379, Std Error=0.3919\n",
      "M=50000: Price=113.1540, Std Error=0.1758\n",
      "M=100000: Price=113.4080, Std Error=0.1257\n",
      "M=1000000: Price=113.4777, Std Error=0.0399\n"
     ]
    },
    {
     "data": {
      "image/png": "[encoded data removed]",
      "text/plain": [
       "<Figure size 1000x600 with 1 Axes>"
      ]
     },
     "metadata": {},
     "output_type": "display_data"
    }
   ],
   "source": [
    "# Range of M values to investigate convergence\n",
    "M_values = [10, 50, 100, 500, 1000, 5000, 10000, 50000]\n",
    "option_prices = []\n",
    "errors = []\n",
    "\n",
    "def analyze_convergence():\n",
    "    M_values = [100, 1000, 5000, 10000, 50000, 100000, 1000000]\n",
    "    N = 100  # Fixed number of time steps\n",
    "    \n",
    "    results = []\n",
    "    for M in M_values:\n",
    "        price, std_error = MonteCarloSimulation(S0, T, r, sigma, N, M, guarantee)\n",
    "        results.append({\n",
    "            'M': M,\n",
    "            'Price': price,\n",
    "            'Std Error': std_error,\n",
    "            'Error': 1/np.sqrt(M)\n",
    "        })\n",
    "        print(f\"M={M}: Price={price:.4f}, Std Error={std_error:.4f}\")\n",
    "\n",
    "    # Plot convergence\n",
    "    plt.figure(figsize=(10, 6))\n",
    "    M_array = np.array(M_values)\n",
    "    errors = [r['Std Error'] for r in results]\n",
    "    plt.loglog(M_array, errors, 'bo-', label='Observed Error')\n",
    "    plt.loglog(M_array, 1/np.sqrt(M_array), 'r--', label='Theoretical O(M^(-1/2))')\n",
    "    plt.xlabel('Number of paths (M)')\n",
    "    plt.ylabel('Standard Error')\n",
    "    plt.legend()\n",
    "    plt.title('Convergence Rate of Monte Carlo Simulation')\n",
    "    plt.grid(True)\n",
    "    plt.show()\n",
    "    \n",
    "    return results\n",
    "\n",
    "convergence_results = analyze_convergence()"
   ]
  },
  {
   "cell_type": "markdown",
   "metadata": {},
   "source": [
    "**Question 2:** Re-run your MC calculation multiple times for 𝑀 = 1000 (using different seed-values for the random number generator!). Plot the empirical distribution function of the estimator 𝐸. Compare this distribution to the asymptotic approximation 𝐸 ≈ 𝑛𝔼[𝑓],Var[𝑓]/𝑀."
   ]
  },
  {
   "cell_type": "code",
   "execution_count": 23,
   "metadata": {},
   "outputs": [],
   "source": [
    "def analyze_distribution():\n",
    "    M = 1000\n",
    "    N = 100\n",
    "    n_simulations = 1000\n",
    "    estimates = []\n",
    "    \n",
    "    for i in range(n_simulations):\n",
    "        np.random.seed(i)\n",
    "        price, _ = MonteCarloSimulation(S0, T, r, sigma, N, M, K)\n",
    "        estimates.append(price)\n",
    "    \n",
    "    # Plot histogram and normal distribution\n",
    "    plt.figure(figsize=(10, 6))\n",
    "    plt.hist(estimates, bins=50, density=True, alpha=0.7, label='MC Estimates')\n",
    "    \n",
    "    mean = np.mean(estimates)\n",
    "    std = np.std(estimates)\n",
    "    x = np.linspace(min(estimates), max(estimates), 100)\n",
    "    plt.plot(x, stats.norm.pdf(x, mean, std), 'r-', lw=2, \n",
    "             label=f'Normal(μ={mean:.2f}, σ={std:.2f})')\n",
    "    \n",
    "    plt.xlabel('Price Estimate')\n",
    "    plt.ylabel('Density')\n",
    "    plt.title('Distribution of Monte Carlo Estimates')\n",
    "    plt.legend()\n",
    "    plt.grid(True)\n",
    "    plt.show()\n",
    "    \n",
    "    return mean, std"
   ]
  },
  {
   "cell_type": "code",
   "execution_count": 24,
   "metadata": {},
   "outputs": [
    {
     "name": "stdout",
     "output_type": "stream",
     "text": [
      "\n",
      "Part 3: Distribution Analysis\n"
     ]
    },
    {
     "data": {
      "image/png": "[encoded data removed]",
      "text/plain": [
       "<Figure size 1000x600 with 1 Axes>"
      ]
     },
     "metadata": {},
     "output_type": "display_data"
    }
   ],
   "source": [
    "print(\"\\nPart 3: Distribution Analysis\")\n",
    "mean, std = analyze_distribution() "
   ]
  },
  {
   "cell_type": "code",
   "execution_count": null,
   "metadata": {},
   "outputs": [],
   "source": [
    "# Part 4: Fixed Budget Analysis\n",
    "def analyze_fixed_budget():\n",
    "    budget = 1000000\n",
    "    combinations = [\n",
    "        (1000, 1000),\n",
    "        (10000, 100),\n",
    "        (100, 10000),\n",
    "        (2000, 500),\n",
    "        (500, 2000)\n",
    "    ]\n",
    "    \n",
    "    results_budget = []\n",
    "    for M, N in combinations:\n",
    "        prices = []\n",
    "        for seed in range(10):\n",
    "            np.random.seed(seed)\n",
    "            price, std_error = MonteCarloSimulation(S0, T, r, sigma, N, M, guarantee)\n",
    "            prices.append(price)\n",
    "        \n",
    "        result = {\n",
    "            'M': M,\n",
    "            'N': N,\n",
    "            'Mean Price': np.mean(prices),\n",
    "            'Std Dev': np.std(prices)\n",
    "        }\n",
    "        results_budget.append(result)\n",
    "        print(f\"M={M}, N={N}: Mean Price={result['Mean Price']:.4f}, Std Dev={result['Std Dev']:.4f}\")\n",
    "    \n",
    "    return results_budget"
   ]
  },
  {
   "cell_type": "code",
   "execution_count": null,
   "metadata": {},
   "outputs": [
    {
     "name": "stdout",
     "output_type": "stream",
     "text": [
      "\n",
      "Part 4: Fixed Budget Analysis\n",
      "M=1000, N=1000: Mean Price=113.4446, Std Dev=0.7988\n",
      "M=10000, N=100: Mean Price=113.3918, Std Dev=0.4046\n",
      "M=100, N=10000: Mean Price=112.3992, Std Dev=2.8515\n",
      "M=2000, N=500: Mean Price=113.2614, Std Dev=0.7230\n",
      "M=500, N=2000: Mean Price=113.7082, Std Dev=1.3569\n"
     ]
    }
   ],
   "source": [
    "print(\"\\nPart 4: Fixed Budget Analysis\")\n",
    "budget_results = analyze_fixed_budget()\n"
   ]
  }
 ],
 "metadata": {
  "kernelspec": {
   "display_name": "Python 3 (ipykernel)",
   "language": "python",
   "name": "python3"
  },
  "language_info": {
   "codemirror_mode": {
    "name": "ipython",
    "version": 3
   },
   "file_extension": ".py",
   "mimetype": "text/x-python",
   "name": "python",
   "nbconvert_exporter": "python",
   "pygments_lexer": "ipython3",
   "version": "3.9.13"
  }
 },
 "nbformat": 4,
 "nbformat_minor": 2
}
