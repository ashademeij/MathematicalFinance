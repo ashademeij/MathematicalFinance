{
 "cells": [
  {
   "cell_type": "code",
   "execution_count": 12,
   "metadata": {},
   "outputs": [],
   "source": [
    "import numpy as np\n",
    "import matplotlib.pyplot as plt\n",
    "import math\n",
    "from scipy.stats import norm"
   ]
  },
  {
   "cell_type": "markdown",
   "metadata": {},
   "source": [
    "# Case 3: Numéraires in a Binomial Tree & Monte Carlo"
   ]
  },
  {
   "cell_type": "code",
   "execution_count": 30,
   "metadata": {},
   "outputs": [],
   "source": [
    "r = 0.01       \n",
    "sigma = 0.15   \n",
    "T = 10          \n",
    "t = 0          \n",
    "n = 100\n",
    "guarantee = 100"
   ]
  },
  {
   "cell_type": "code",
   "execution_count": 31,
   "metadata": {},
   "outputs": [
    {
     "name": "stdout",
     "output_type": "stream",
     "text": [
      "Option Price normal Binomial Model: 113.45806426770127\n"
     ]
    }
   ],
   "source": [
    "def binomialTree_ORIGINAL(r, sigma, T, guarantee, n):\n",
    "\n",
    "    dt = T / n\n",
    "    R_dt = np.exp(r * dt)\n",
    "\n",
    "    u = R_dt * np.exp(sigma * np.sqrt(dt))\n",
    "    d = R_dt * np.exp(- sigma * np.sqrt(dt))\n",
    "    \n",
    "    p = (R_dt - d) / (u - d)\n",
    "    q = 1 - p\n",
    "\n",
    "    # Stock price matrix\n",
    "    stockValues = 100 * u**np.arange(n + 1) * d**(n - np.arange(n + 1))\n",
    "\n",
    "    # init option prices at maturity\n",
    "    contractPrice = np.maximum(stockValues, guarantee)\n",
    "\n",
    "    # calculate option prices at each node\n",
    "    for i in np.arange(n,0,-1):\n",
    "        contractPrice = (1/R_dt) * (p * contractPrice[1:i+1] + q * contractPrice[0:i])\n",
    "\n",
    "    return contractPrice[0]\n",
    "\n",
    "option_price = binomialTree_ORIGINAL(r, sigma, T, guarantee, n)\n",
    "print(\"Option Price normal Binomial Model:\", option_price)"
   ]
  },
  {
   "cell_type": "markdown",
   "metadata": {},
   "source": [
    "## Numéraire =  Bank"
   ]
  },
  {
   "cell_type": "code",
   "execution_count": 32,
   "metadata": {},
   "outputs": [],
   "source": [
    "# CASE 1: Numeraire Bank Account\n",
    "\n",
    "def binomialTree_BankNum(r, sigma, T, guarantee, n):\n",
    "    dt = T / n\n",
    "    R_dt = np.exp(r * dt)\n",
    "\n",
    "    u = R_dt * np.exp(sigma * np.sqrt(dt))\n",
    "    d = R_dt * np.exp(-sigma * np.sqrt(dt))\n",
    "    \n",
    "    # Adjusted probability with B as numéraire\n",
    "    pi_star = (R_dt - d) / (u - d)\n",
    "\n",
    "    # money-market account values\n",
    "    B = 100 * R_dt ** np.arange(n + 1)\n",
    "\n",
    "    # Stock prices\n",
    "    stockValues = 100 * u**np.arange(n + 1) * d**(n - np.arange(n + 1))\n",
    "\n",
    "    # option prices \n",
    "    contractPrice = np.maximum(stockValues, guarantee)\n",
    "\n",
    "    for i in np.arange(n, 0, -1):\n",
    "        contractPrice = ((pi_star * contractPrice[1:i+1] + (1 - pi_star) * contractPrice[0:i] ) / B[i]) * B[i-1]\n",
    "\n",
    "    return contractPrice[0]"
   ]
  },
  {
   "cell_type": "code",
   "execution_count": 33,
   "metadata": {},
   "outputs": [
    {
     "name": "stdout",
     "output_type": "stream",
     "text": [
      "Option Price with Money-Market as Numéraire: 113.45806426770169\n"
     ]
    }
   ],
   "source": [
    "option_price = binomialTree_BankNum(r, sigma, T, guarantee, n)\n",
    "print(\"Option Price with Money-Market as Numéraire:\", option_price)"
   ]
  },
  {
   "cell_type": "markdown",
   "metadata": {},
   "source": [
    "# Numéraire: Stock"
   ]
  },
  {
   "cell_type": "code",
   "execution_count": null,
   "metadata": {},
   "outputs": [],
   "source": [
    "def binomialTree_StockAsNumeraire(r, sigma, T, guarantee, n):\n",
    "    dt = T / n\n",
    "    R_dt = np.exp(r * dt)\n",
    "\n",
    "    u = R_dt * np.exp(sigma * np.sqrt(dt))\n",
    "    d = R_dt * np.exp(-sigma * np.sqrt(dt))\n",
    "\n",
    "    pi_star = ((R_dt - d) * u) / ((u - d) * R_dt)\n",
    "\n",
    "    # Stock price matrix\n",
    "    stockValues = 100 * u**np.arange(n + 1) * d**(n - np.arange(n + 1))\n",
    "\n",
    "    # option prices at maturity\n",
    "    contractPrice = np.maximum(stockValues, guarantee)\n",
    "\n",
    "    # option prices with adjusted probability\n",
    "    for i in np.arange(n, 0, -1):\n",
    "        contractPrice = (pi_star * contractPrice[1:i+1] / stockValues[1:i+1] + \n",
    "                         (1 - pi_star) * contractPrice[0:i] / stockValues[0:i]) * stockValues[1:i+1] / u\n",
    "\n",
    "    return contractPrice[0]"
   ]
  },
  {
   "cell_type": "code",
   "execution_count": 29,
   "metadata": {},
   "outputs": [
    {
     "data": {
      "text/plain": [
       "np.float64(113.45806426770112)"
      ]
     },
     "execution_count": 29,
     "metadata": {},
     "output_type": "execute_result"
    }
   ],
   "source": [
    "binomialTree_StockAsNumeraire(r, sigma, T, guarantee, n)"
   ]
  }
 ],
 "metadata": {
  "kernelspec": {
   "display_name": "Python 3",
   "language": "python",
   "name": "python3"
  },
  "language_info": {
   "codemirror_mode": {
    "name": "ipython",
    "version": 3
   },
   "file_extension": ".py",
   "mimetype": "text/x-python",
   "name": "python",
   "nbconvert_exporter": "python",
   "pygments_lexer": "ipython3",
   "version": "3.9.18"
  }
 },
 "nbformat": 4,
 "nbformat_minor": 2
}
