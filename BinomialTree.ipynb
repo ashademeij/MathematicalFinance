{
 "cells": [
  {
   "cell_type": "markdown",
   "metadata": {},
   "source": [
    "# Case 1: Binomial Trees"
   ]
  },
  {
   "cell_type": "markdown",
   "metadata": {},
   "source": [
    "Asha de Meij (i6254733)"
   ]
  },
  {
   "cell_type": "markdown",
   "metadata": {},
   "source": [
    "**Task:** Consider the unit-linked contract with maturity guarantee that was discussed in the lecture.\n",
    "Take the risk-free rate equal to r = 1%, the volatility of the investment fund o = 15% and\n",
    "the final guaranteed amount at T = 10 equal to 100 (i.e., we have a contract with a 0%\n",
    "guarantee).\n",
    "\n",
    "We want to use a binomial tree with increasing number of steps to compute the price of this\n",
    "contract. In the lecture we used 4 time-steps, but this is not realistic. Make a computer\n",
    "program where you increase the number of steps in the binomial tree from 4 to 100 and\n",
    "make a graph of how the price of the contract as a function of the number of steps develops.\n",
    "\n",
    "**Questions:**\n",
    "- Can you explain the pattern that you see in the graph? To help you investigate the\n",
    "convergence pattern, make an extra plot of the stock price S, in two nearest nodes\n",
    "at T = 10, just above and below the guarantee level, as a function of the number of\n",
    "steps.\n",
    "- When you keep the number of steps fixed (say 100), how does the price of the\n",
    "contract change if you change r or o or T. Can you explain these changes?\n",
    "- Can you modify your program to make it run faster (e.g., for a tree with 10 000\n",
    "steps)? If so, what changes did you make compared to your initial code? Describe\n",
    "how you have analysed the run-time of the code."
   ]
  },
  {
   "cell_type": "markdown",
   "metadata": {},
   "source": [
    "# Code"
   ]
  },
  {
   "cell_type": "code",
   "execution_count": 1,
   "metadata": {},
   "outputs": [
    {
     "name": "stdout",
     "output_type": "stream",
     "text": [
      "hi\n"
     ]
    }
   ],
   "source": [
    "print(\"hi\")"
   ]
  }
 ],
 "metadata": {
  "kernelspec": {
   "display_name": "Python 3",
   "language": "python",
   "name": "python3"
  },
  "language_info": {
   "codemirror_mode": {
    "name": "ipython",
    "version": 3
   },
   "file_extension": ".py",
   "mimetype": "text/x-python",
   "name": "python",
   "nbconvert_exporter": "python",
   "pygments_lexer": "ipython3",
   "version": "3.9.18"
  }
 },
 "nbformat": 4,
 "nbformat_minor": 2
}
