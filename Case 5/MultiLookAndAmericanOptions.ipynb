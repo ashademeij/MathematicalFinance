{
 "cells": [
  {
   "cell_type": "code",
   "execution_count": 1,
   "metadata": {},
   "outputs": [],
   "source": [
    "import numpy as np\n",
    "import matplotlib.pyplot as plt\n",
    "import math\n",
    "from scipy.stats import norm\n",
    "from scipy import stats\n",
    "from scipy.integrate import quad\n",
    "import pandas as pd\n",
    "from scipy.stats import norm\n",
    "from sklearn.linear_model import LinearRegression"
   ]
  },
  {
   "cell_type": "markdown",
   "metadata": {},
   "source": [
    "# Case 5: Multi-Look and American Options"
   ]
  },
  {
   "cell_type": "markdown",
   "metadata": {},
   "source": [
    "## Part 1: Asian Options"
   ]
  },
  {
   "cell_type": "code",
   "execution_count": 2,
   "metadata": {},
   "outputs": [],
   "source": [
    "S0 = 100 \n",
    "r = 0.02 \n",
    "sigma = 0.15\n",
    "T = 10  # Time horizon\n",
    "n = 10  # Number of observations\n",
    "n_sims = 100000  # Number of simulation paths\n",
    "guarantee = 100\n",
    "K = 100"
   ]
  },
  {
   "cell_type": "code",
   "execution_count": 3,
   "metadata": {},
   "outputs": [
    {
     "name": "stdout",
     "output_type": "stream",
     "text": [
      "Price of the Asian contract (Monte Carlo):  16.00788017264252 ± 0.22771069737423946\n"
     ]
    }
   ],
   "source": [
    "# Exercise 1.1\n",
    "def AsianOptionMonteCarlo(S0, T, r, sigma, N, M):\n",
    "    dt = T / N \n",
    "\n",
    "    # Stock price paths\n",
    "    S = np.zeros((M, N + 1))  \n",
    "    S[:, 0] = S0  \n",
    "\n",
    "    Z = np.random.normal(0, 1, (M, N)) \n",
    "    for t in range(1, N + 1):\n",
    "        S[:, t] = S[:, t - 1] * np.exp((r - 0.5 * sigma**2) * dt + sigma * np.sqrt(dt) * Z[:, t - 1])\n",
    "\n",
    "    # The new payoff function: max(average stock price - 100, 0)\n",
    "    average_price = np.mean(S[:, 1:], axis=1)  \n",
    "    payoff = np.maximum(average_price - 100, 0)\n",
    "\n",
    "    discountedPrice = np.exp(-r * T) * np.mean(payoff)\n",
    "    SE = np.exp(-r * T) * np.std(payoff) / np.sqrt(M)\n",
    "\n",
    "    return discountedPrice, SE\n",
    "\n",
    "asianOption_price, SE = AsianOptionMonteCarlo(S0, T, r, sigma, N=10, M=10000)\n",
    "\n",
    "print(\"Price of the Asian contract (Monte Carlo): \", asianOption_price, \"±\", SE)"
   ]
  },
  {
   "cell_type": "code",
   "execution_count": 4,
   "metadata": {},
   "outputs": [
    {
     "data": {
      "text/html": [
       "<div>\n",
       "<style scoped>\n",
       "    .dataframe tbody tr th:only-of-type {\n",
       "        vertical-align: middle;\n",
       "    }\n",
       "\n",
       "    .dataframe tbody tr th {\n",
       "        vertical-align: top;\n",
       "    }\n",
       "\n",
       "    .dataframe thead th {\n",
       "        text-align: right;\n",
       "    }\n",
       "</style>\n",
       "<table border=\"1\" class=\"dataframe\">\n",
       "  <thead>\n",
       "    <tr style=\"text-align: right;\">\n",
       "      <th></th>\n",
       "      <th>Number of Paths</th>\n",
       "      <th>Price</th>\n",
       "      <th>Standard Error</th>\n",
       "    </tr>\n",
       "  </thead>\n",
       "  <tbody>\n",
       "    <tr>\n",
       "      <th>0</th>\n",
       "      <td>10000</td>\n",
       "      <td>15.693530</td>\n",
       "      <td>0.223390</td>\n",
       "    </tr>\n",
       "    <tr>\n",
       "      <th>1</th>\n",
       "      <td>50000</td>\n",
       "      <td>15.649505</td>\n",
       "      <td>0.101604</td>\n",
       "    </tr>\n",
       "    <tr>\n",
       "      <th>2</th>\n",
       "      <td>100000</td>\n",
       "      <td>15.654416</td>\n",
       "      <td>0.071537</td>\n",
       "    </tr>\n",
       "    <tr>\n",
       "      <th>3</th>\n",
       "      <td>200000</td>\n",
       "      <td>15.757483</td>\n",
       "      <td>0.050775</td>\n",
       "    </tr>\n",
       "    <tr>\n",
       "      <th>4</th>\n",
       "      <td>500000</td>\n",
       "      <td>15.807112</td>\n",
       "      <td>0.032113</td>\n",
       "    </tr>\n",
       "    <tr>\n",
       "      <th>5</th>\n",
       "      <td>1000000</td>\n",
       "      <td>15.808207</td>\n",
       "      <td>0.022796</td>\n",
       "    </tr>\n",
       "  </tbody>\n",
       "</table>\n",
       "</div>"
      ],
      "text/plain": [
       "   Number of Paths      Price  Standard Error\n",
       "0            10000  15.693530        0.223390\n",
       "1            50000  15.649505        0.101604\n",
       "2           100000  15.654416        0.071537\n",
       "3           200000  15.757483        0.050775\n",
       "4           500000  15.807112        0.032113\n",
       "5          1000000  15.808207        0.022796"
      ]
     },
     "execution_count": 4,
     "metadata": {},
     "output_type": "execute_result"
    }
   ],
   "source": [
    "simulations = [10000, 50000, 100000, 200000, 500000, 1000000]\n",
    "results = []\n",
    "\n",
    "numSteps=10\n",
    "\n",
    "for M in simulations:\n",
    "    price, se = AsianOptionMonteCarlo(S0, T, r, sigma, numSteps, M)\n",
    "    results.append({\"Number of Paths\": M, \"Price\": price, \"Standard Error\": se})\n",
    "\n",
    "# Convert results to DataFrame and display\n",
    "results_df = pd.DataFrame(results)\n",
    "results_df"
   ]
  },
  {
   "cell_type": "code",
   "execution_count": 5,
   "metadata": {},
   "outputs": [
    {
     "name": "stdout",
     "output_type": "stream",
     "text": [
      "Black-Scholes value of European call-option:  27.571349248747218\n"
     ]
    }
   ],
   "source": [
    "# Exercise 1.2\n",
    "def blackScholes(S0, r, sigma, T, K):\n",
    "\n",
    "    d1 = (np.log(S0 / K) + (r + 0.5 * sigma**2) * T) / (sigma * np.sqrt(T))\n",
    "    d2 = (np.log(S0 / K) + (r - 0.5 * sigma**2) * T) / (sigma * np.sqrt(T))\n",
    "    \n",
    "    phi = norm.cdf\n",
    "    optionPrice = S0 * phi(d1) - np.exp(-r * T) * K * phi(d2)\n",
    "    return optionPrice\n",
    "\n",
    "print(\"Black-Scholes value of European call-option: \",blackScholes(S0, r, sigma, T=10, K=100))"
   ]
  },
  {
   "cell_type": "code",
   "execution_count": 6,
   "metadata": {},
   "outputs": [
    {
     "name": "stdout",
     "output_type": "stream",
     "text": [
      "A0:  91.54399082959372\n",
      "b:  0.09584030077451944\n",
      "Closed-form price of Asian option 15.973823843043952\n"
     ]
    }
   ],
   "source": [
    "# Exercise 1.3\n",
    "def deriveMoments(S0, r, sigma, T, N):   \n",
    "    \n",
    "    EQ_A = (1 / N) * sum(S0 * np.exp(r * np.arange(1, N + 1)))\n",
    "    \n",
    "    EQ_A2 = (1 / N**2) * sum(\n",
    "        sum(S0**2 * np.exp(r * (i + np.arange(1, N + 1)) + sigma**2 * np.minimum(i, np.arange(1, N + 1))))\n",
    "        for i in range(1, N + 1)\n",
    "    )\n",
    "    \n",
    "    A0 = EQ_A / np.exp(r * T)\n",
    "    b = np.sqrt((1 / T) * np.log(EQ_A2 / (A0**2)) - 2 * r)\n",
    "    \n",
    "    return A0, b\n",
    "\n",
    "def asianOption_closedForm(S0, r, sigma, T, K, N):\n",
    "    \n",
    "    A0, b = deriveMoments(S0, r, sigma, T, N)\n",
    "    print(\"A0: \", A0)\n",
    "    print(\"b: \", b)\n",
    "\n",
    "    d1 = (np.log(A0 / K) + (r + 0.5 * b**2) * T) / (b * np.sqrt(T))\n",
    "    d2 = (np.log(A0 / K) + (r - 0.5 * b**2) * T) / (b * np.sqrt(T))\n",
    "    \n",
    "    phi = norm.cdf\n",
    "    optionPrice = A0 * phi(d1) - np.exp(-r * T) * K * phi(d2)\n",
    "    return optionPrice\n",
    "\n",
    "print(\"Closed-form price of Asian option\",asianOption_closedForm(S0, r, sigma, T, K, N = 10))\n"
   ]
  },
  {
   "cell_type": "markdown",
   "metadata": {},
   "source": [
    "## Part 2: Unit-linked with continuous guarantee"
   ]
  },
  {
   "cell_type": "markdown",
   "metadata": {},
   "source": [
    "**Remark:** We now have a continous guarantee, where the client has the right to \"early exercise\" the guarantee and walk away with value of 100 at any time 0 < t < 10"
   ]
  },
  {
   "cell_type": "code",
   "execution_count": 7,
   "metadata": {},
   "outputs": [
    {
     "name": "stdout",
     "output_type": "stream",
     "text": [
      "Price of unit-linked with continous guarantee 111.90847226319141\n"
     ]
    }
   ],
   "source": [
    "def binomialTreeContinuous(S0, guarantee, r, n, T, sigma):\n",
    "\n",
    "    dt = T / n  \n",
    "    R_dt = np.exp(r * dt)\n",
    "\n",
    "    u = R_dt * np.exp(sigma * np.sqrt(dt))\n",
    "    d = R_dt * np.exp(-sigma * np.sqrt(dt))\n",
    "\n",
    "    p = (R_dt - d) / (u - d)\n",
    "\n",
    "    # Stock prices \n",
    "    stock_prices = np.array([guarantee * (u ** j) * (d ** (n - j)) for j in range(n + 1)])\n",
    "    \n",
    "    # Payoff \n",
    "    contract_values = np.maximum(stock_prices, guarantee)\n",
    "    \n",
    "    # Backward induction \n",
    "    for i in range(n - 1, -1, -1):\n",
    "        for j in range(i + 1):\n",
    "            continuation_value = (p * contract_values[j + 1] + (1 - p) * contract_values[j]) * np.exp(-r * dt)\n",
    "            contract_values[j] = max(guarantee, continuation_value)  \n",
    "\n",
    "    return contract_values[0]\n",
    "\n",
    "print(\"Price of unit-linked with continous guarantee\",binomialTreeContinuous(S0, guarantee, r, n, T, sigma))"
   ]
  },
  {
   "cell_type": "code",
   "execution_count": 8,
   "metadata": {},
   "outputs": [
    {
     "name": "stdout",
     "output_type": "stream",
     "text": [
      "Price of the unit-linked contract with continuous guarantee:  111.44840853648545 ± 0.3355340592222646\n"
     ]
    }
   ],
   "source": [
    "def LSMC_unitLinked(S0, guarantee, r, T, sigma, M, N):\n",
    "    dt = T / N  \n",
    "\n",
    "    S = np.zeros((M, N + 1)) \n",
    "    S[:, 0] = S0  \n",
    "\n",
    "    Z = np.random.normal(0, 1, (M, n)) \n",
    "    for t in range(1, N + 1):\n",
    "        S[:, t] = S[:, t - 1] * np.exp((r - 0.5 * sigma**2) * dt + sigma * np.sqrt(dt) * Z[:, t - 1])\n",
    "\n",
    "    payoffs = np.maximum(guarantee, S)  \n",
    "\n",
    "    for t in range(N - 1, 0, -1):\n",
    "        in_the_money = S[:, t] < guarantee \n",
    "            \n",
    "        LR = LinearRegression().fit(\n",
    "            S[in_the_money, t].reshape(-1, 1),  \n",
    "            payoffs[in_the_money, t + 1] * np.exp(-r * dt)    \n",
    "        )\n",
    "        continuation_value = LR.predict(S[in_the_money, t].reshape(-1, 1))\n",
    "\n",
    "        immediate_exercise_value = guarantee  \n",
    "\n",
    "        exercise = immediate_exercise_value > continuation_value\n",
    "        payoffs[in_the_money, t] = np.where(\n",
    "            exercise,\n",
    "            immediate_exercise_value,  \n",
    "            payoffs[in_the_money, t + 1] * np.exp(-r * dt)    \n",
    "        )\n",
    "\n",
    "        payoffs[~in_the_money, t] = payoffs[~in_the_money, t + 1] * np.exp(-r * dt)  \n",
    "\n",
    "    option_price = np.mean(payoffs[:, 1]) * np.exp(-r * dt)  \n",
    "    SE = np.exp(-r * T) * np.std(payoffs[:, 1]) / np.sqrt(M)  \n",
    "    return option_price, SE\n",
    "\n",
    "\n",
    "unit_linked_price, SE = LSMC_unitLinked(S0, guarantee, r, T, sigma, M=10000, N=10)\n",
    "print(\"Price of the unit-linked contract with continuous guarantee: \", unit_linked_price, \"±\", SE)\n"
   ]
  },
  {
   "cell_type": "code",
   "execution_count": 10,
   "metadata": {},
   "outputs": [
    {
     "data": {
      "text/html": [
       "<div>\n",
       "<style scoped>\n",
       "    .dataframe tbody tr th:only-of-type {\n",
       "        vertical-align: middle;\n",
       "    }\n",
       "\n",
       "    .dataframe tbody tr th {\n",
       "        vertical-align: top;\n",
       "    }\n",
       "\n",
       "    .dataframe thead th {\n",
       "        text-align: right;\n",
       "    }\n",
       "</style>\n",
       "<table border=\"1\" class=\"dataframe\">\n",
       "  <thead>\n",
       "    <tr style=\"text-align: right;\">\n",
       "      <th></th>\n",
       "      <th>Number of Paths</th>\n",
       "      <th>Price</th>\n",
       "      <th>Standard Error</th>\n",
       "    </tr>\n",
       "  </thead>\n",
       "  <tbody>\n",
       "    <tr>\n",
       "      <th>0</th>\n",
       "      <td>10000</td>\n",
       "      <td>111.718764</td>\n",
       "      <td>0.339685</td>\n",
       "    </tr>\n",
       "    <tr>\n",
       "      <th>1</th>\n",
       "      <td>50000</td>\n",
       "      <td>111.511998</td>\n",
       "      <td>0.151462</td>\n",
       "    </tr>\n",
       "    <tr>\n",
       "      <th>2</th>\n",
       "      <td>100000</td>\n",
       "      <td>111.444386</td>\n",
       "      <td>0.106781</td>\n",
       "    </tr>\n",
       "    <tr>\n",
       "      <th>3</th>\n",
       "      <td>200000</td>\n",
       "      <td>111.410727</td>\n",
       "      <td>0.075836</td>\n",
       "    </tr>\n",
       "    <tr>\n",
       "      <th>4</th>\n",
       "      <td>500000</td>\n",
       "      <td>111.557111</td>\n",
       "      <td>0.048230</td>\n",
       "    </tr>\n",
       "    <tr>\n",
       "      <th>5</th>\n",
       "      <td>1000000</td>\n",
       "      <td>111.473389</td>\n",
       "      <td>0.033997</td>\n",
       "    </tr>\n",
       "  </tbody>\n",
       "</table>\n",
       "</div>"
      ],
      "text/plain": [
       "   Number of Paths       Price  Standard Error\n",
       "0            10000  111.718764        0.339685\n",
       "1            50000  111.511998        0.151462\n",
       "2           100000  111.444386        0.106781\n",
       "3           200000  111.410727        0.075836\n",
       "4           500000  111.557111        0.048230\n",
       "5          1000000  111.473389        0.033997"
      ]
     },
     "execution_count": 10,
     "metadata": {},
     "output_type": "execute_result"
    }
   ],
   "source": [
    "simulations = [10000, 50000, 100000, 200000, 500000, 1000000]\n",
    "\n",
    "results = []\n",
    "\n",
    "for M in simulations:\n",
    "    price, SE = LSMC_unitLinked(S0, guarantee, r, T, sigma, M, N=10)\n",
    "    results.append({\"Number of Paths\": M, \"Price\": price, \"Standard Error\": SE})\n",
    "\n",
    "df_results = pd.DataFrame(results)\n",
    "df_results"
   ]
  },
  {
   "cell_type": "code",
   "execution_count": null,
   "metadata": {},
   "outputs": [],
   "source": [
    "def binomialTree_final(S0, guarantee, r, n, T, sigma):\n",
    "\n",
    "    dt = T / n  \n",
    "    R_dt = np.exp(r * dt)\n",
    "\n",
    "    u = R_dt * np.exp(sigma * np.sqrt(dt))\n",
    "    d = R_dt * np.exp(-sigma * np.sqrt(dt))\n",
    "\n",
    "    p = (R_dt - d) / (u - d)\n",
    "\n",
    "    # Stock prices \n",
    "    stock_prices = np.array([guarantee * (u ** j) * (d ** (n - j)) for j in range(n + 1)])\n",
    "    \n",
    "    # Payoff \n",
    "    contract_values = np.maximum(stock_prices, guarantee)\n",
    "    \n",
    "    # Backward induction \n",
    "    for i in range(n - 1, -1, -1):\n",
    "        for j in range(i + 1):\n",
    "            contract_values = (p * contract_values[j + 1] + (1 - p) * contract_values[j]) * np.exp(-r * dt)\n",
    "\n",
    "    return contract_values[0]\n",
    "\n",
    "print(\"Price of unit-linked with continous guarantee\",binomialTree_final(S0, guarantee, r, n, T, sigma))"
   ]
  }
 ],
 "metadata": {
  "kernelspec": {
   "display_name": "3.9.18",
   "language": "python",
   "name": "python3"
  },
  "language_info": {
   "codemirror_mode": {
    "name": "ipython",
    "version": 3
   },
   "file_extension": ".py",
   "mimetype": "text/x-python",
   "name": "python",
   "nbconvert_exporter": "python",
   "pygments_lexer": "ipython3",
   "version": "3.9.18"
  }
 },
 "nbformat": 4,
 "nbformat_minor": 2
}
