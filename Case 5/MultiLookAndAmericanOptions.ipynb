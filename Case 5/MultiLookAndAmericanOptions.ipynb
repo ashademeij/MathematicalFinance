{
 "cells": [
  {
   "cell_type": "code",
   "execution_count": 1,
   "metadata": {},
   "outputs": [],
   "source": [
    "import numpy as np\n",
    "import matplotlib.pyplot as plt\n",
    "import math\n",
    "from scipy.stats import norm\n",
    "from scipy import stats\n",
    "from scipy.integrate import quad\n",
    "import pandas as pd\n",
    "from scipy.stats import norm"
   ]
  },
  {
   "cell_type": "markdown",
   "metadata": {},
   "source": [
    "# Case 5: Multi-Look and American Options"
   ]
  },
  {
   "cell_type": "markdown",
   "metadata": {},
   "source": [
    "## Part 1: Asian Options"
   ]
  },
  {
   "cell_type": "code",
   "execution_count": 22,
   "metadata": {},
   "outputs": [],
   "source": [
    "S0 = 100 \n",
    "r = 0.02 \n",
    "sigma = 0.15\n",
    "T = 10  # Time horizon\n",
    "n = 10  # Number of observations\n",
    "n_sims = 100000  # Number of simulation paths\n",
    "guarantee = 100\n",
    "K = 100"
   ]
  },
  {
   "cell_type": "code",
   "execution_count": 17,
   "metadata": {},
   "outputs": [
    {
     "name": "stdout",
     "output_type": "stream",
     "text": [
      "Price of the Asian contract (Monte Carlo):  15.674115212225907 ± 0.2240626755242127\n"
     ]
    }
   ],
   "source": [
    "# Exercise 1.1\n",
    "def AsianOptionMonteCarlo(S0, T, r, sigma, numSteps, numSim):\n",
    "    dt = T / numSteps \n",
    "\n",
    "    # Stock price paths\n",
    "    S = np.zeros((numSim, numSteps + 1))  \n",
    "    S[:, 0] = S0  \n",
    "\n",
    "    Z = np.random.normal(0, 1, (numSim, numSteps)) \n",
    "    for t in range(1, numSteps + 1):\n",
    "        S[:, t] = S[:, t - 1] * np.exp((r - 0.5 * sigma**2) * dt + sigma * np.sqrt(dt) * Z[:, t - 1])\n",
    "\n",
    "    # The new payoff function: max(average stock price - 100, 0)\n",
    "    average_price = np.mean(S[:, 1:], axis=1)  \n",
    "    payoff = np.maximum(average_price - 100, 0)\n",
    "\n",
    "    discountedPrice = np.exp(-r * T) * np.mean(payoff)\n",
    "    SE = np.exp(-r * T) * np.std(payoff) / np.sqrt(numSim)\n",
    "\n",
    "    return discountedPrice, SE\n",
    "\n",
    "asianOption_price, SE = AsianOptionMonteCarlo(S0, T, r, sigma, numSteps=10, numSim=10000)\n",
    "\n",
    "print(\"Price of the Asian contract (Monte Carlo): \", asianOption_price, \"±\", SE)"
   ]
  },
  {
   "cell_type": "code",
   "execution_count": 39,
   "metadata": {},
   "outputs": [
    {
     "name": "stdout",
     "output_type": "stream",
     "text": [
      "Black-Scholes value of European call-option:  27.571349248747218\n"
     ]
    }
   ],
   "source": [
    "# Exercise 1.2\n",
    "def blackScholes(S0, r, sigma, T, K):\n",
    "\n",
    "    d1 = (np.log(S0 / K) + (r + 0.5 * sigma**2) * T) / (sigma * np.sqrt(T))\n",
    "    d2 = (np.log(S0 / K) + (r - 0.5 * sigma**2) * T) / (sigma * np.sqrt(T))\n",
    "    \n",
    "    phi = norm.cdf\n",
    "    optionPrice = S0 * phi(d1) - np.exp(-r * T) * K * phi(d2)\n",
    "    return optionPrice\n",
    "\n",
    "print(\"Black-Scholes value of European call-option: \",blackScholes(S0, r, sigma, T=10, K=100))"
   ]
  },
  {
   "cell_type": "code",
   "execution_count": null,
   "metadata": {},
   "outputs": [
    {
     "name": "stdout",
     "output_type": "stream",
     "text": [
      "A0:  91.54399082959372\n",
      "b:  0.09584030077451944\n",
      "Closed-form price of Asian option 15.973823843043952\n"
     ]
    }
   ],
   "source": [
    "# Exercise 1.3\n",
    "def deriveMoments(S0, r, sigma, T, N):   \n",
    "    \n",
    "    EQ_A = (1 / N) * sum(S0 * np.exp(r * np.arange(1, N + 1)))\n",
    "    \n",
    "    EQ_A2 = (1 / N**2) * sum(\n",
    "        sum(S0**2 * np.exp(r * (i + np.arange(1, N + 1)) + sigma**2 * np.minimum(i, np.arange(1, N + 1))))\n",
    "        for i in range(1, N + 1)\n",
    "    )\n",
    "    \n",
    "    A0 = EQ_A / np.exp(r * T)\n",
    "    b = np.sqrt((1 / T) * np.log(EQ_A2 / (A0**2)) - 2 * r)\n",
    "    \n",
    "    return A0, b\n",
    "\n",
    "def asianOption_closedForm(S0, r, sigma, T, K, N):\n",
    "    \n",
    "    A0, b = deriveMoments(S0, r, sigma, T, N)\n",
    "    print(\"A0: \", A0)\n",
    "    print(\"b: \", b)\n",
    "\n",
    "    d1 = (np.log(A0 / K) + (r + 0.5 * b**2) * T) / (b * np.sqrt(T))\n",
    "    d2 = (np.log(A0 / K) + (r - 0.5 * b**2) * T) / (b * np.sqrt(T))\n",
    "    \n",
    "    phi = norm.cdf\n",
    "    optionPrice = A0 * phi(d1) - np.exp(-r * T) * K * phi(d2)\n",
    "    return optionPrice\n",
    "\n",
    "print(\"Closed-form price of Asian option\",asianOption_closedForm(S0, r, sigma, T, K, N = 10))"
   ]
  },
  {
   "cell_type": "markdown",
   "metadata": {},
   "source": [
    "## Part 2: Unit-linked with continuous guarantee"
   ]
  },
  {
   "cell_type": "markdown",
   "metadata": {},
   "source": [
    "**Remark:** We now have a continous guarantee, where the client has the right to \"early exercise\" the guarantee and walk away with value of 100 at any time 0 < t < 10"
   ]
  },
  {
   "cell_type": "code",
   "execution_count": 40,
   "metadata": {},
   "outputs": [
    {
     "name": "stdout",
     "output_type": "stream",
     "text": [
      "Price of unit-linked with continous guarantee 111.84198439352726\n"
     ]
    }
   ],
   "source": [
    "def binomialTreeContinuous(S0, guarantee, r, n, T, sigma):\n",
    "\n",
    "    dt = T / n  \n",
    "    R_dt = np.exp(r * dt)\n",
    "\n",
    "    u = R_dt * np.exp(sigma * np.sqrt(dt))\n",
    "    d = R_dt * np.exp(-sigma * np.sqrt(dt))\n",
    "\n",
    "    p = (R_dt - d) / (u - d)\n",
    "\n",
    "    # Stock prices \n",
    "    stock_prices = np.array([guarantee * (u ** j) * (d ** (n - j)) for j in range(n + 1)])\n",
    "    \n",
    "    # Payoff \n",
    "    contract_values = np.maximum(stock_prices, guarantee)\n",
    "    \n",
    "    # Backward induction \n",
    "    for i in range(n - 1, -1, -1):\n",
    "        for j in range(i + 1):\n",
    "            continuation_value = (p * contract_values[j + 1] + (1 - p) * contract_values[j]) * np.exp(-r * dt)\n",
    "            contract_values[j] = max(guarantee, continuation_value)  \n",
    "\n",
    "    return contract_values[0]\n",
    "\n",
    "print(\"Price of unit-linked with continous guarantee\",binomialTreeContinuous(S0, guarantee, r, n, T, sigma))"
   ]
  },
  {
   "cell_type": "code",
   "execution_count": null,
   "metadata": {},
   "outputs": [
    {
     "name": "stdout",
     "output_type": "stream",
     "text": [
      "The value of the unit-linked contract with continuous guarantee is:  111.36658440369438 ± 0.02689632202126108\n"
     ]
    }
   ],
   "source": [
    "def unit_linked_payoff(fund_value, guarantee):\n",
    "    \"\"\"\n",
    "    Payoff function for a unit-linked contract with a continuous guarantee.\n",
    "    \"\"\"\n",
    "    return np.maximum(fund_value, guarantee)\n",
    "\n",
    "def least_squares_monte_carlo_unitlinked_continuous(S0,guarantee, r, sigma, T, n, n_sims):\n",
    "    dt = T / n  \n",
    "    discount_factor = np.exp(-r * dt)  \n",
    "\n",
    "    # Simulate fund value paths\n",
    "    fund_paths = np.zeros((n_sims, n + 1))\n",
    "    fund_paths[:, 0] = S0\n",
    "    for t in range(1, n + 1):\n",
    "        z = np.random.standard_normal(n_sims)\n",
    "        fund_paths[:, t] = fund_paths[:, t - 1] * np.exp(\n",
    "            (r - 0.5 * sigma**2) * dt + sigma * np.sqrt(dt) * z\n",
    "        )\n",
    "\n",
    "    # Initialize cash flows at maturity\n",
    "    cash_flows = unit_linked_payoff(fund_paths[:, -1], guarantee)\n",
    "\n",
    "    # Work backward through the time steps\n",
    "    for t in range(n - 1, 0, -1):\n",
    "        in_the_money = unit_linked_payoff(fund_paths[:, t], guarantee) > 0\n",
    "        if np.sum(in_the_money) == 0:\n",
    "            continue  \n",
    "\n",
    "        # Regression \n",
    "        X = fund_paths[in_the_money, t]\n",
    "        Y = cash_flows[in_the_money] * discount_factor\n",
    "        regression = np.polyfit(X, Y, 2)  # quadratic polynomial\n",
    "        continuation_values = np.polyval(regression, X)\n",
    "\n",
    "        # Comparison\n",
    "        surrender_values = unit_linked_payoff(X, guarantee)\n",
    "        exercise = surrender_values > continuation_values\n",
    "\n",
    "        # Update cash flows based on exercise decision\n",
    "        cash_flows[in_the_money] = np.where(\n",
    "            exercise, surrender_values, cash_flows[in_the_money] * discount_factor\n",
    "        )\n",
    "\n",
    "    # Discount cash flows\n",
    "    contract_value = np.mean(cash_flows) * np.exp(-r * dt)\n",
    "    SE = np.exp(-r * T) * np.std(surrender_values) / np.sqrt(n_sims)\n",
    "    \n",
    "    return contract_value, SE\n",
    "\n",
    "\n",
    "\n",
    "S0 = 100          \n",
    "r = 0.02          \n",
    "sigma = 0.15      \n",
    "T = 10            \n",
    "n = 10            \n",
    "n_sims = 100000   \n",
    "guarantee = 100  \n",
    "\n",
    "contract_value, SE = least_squares_monte_carlo_unitlinked_continuous(S0, guarantee, r, sigma, T, n, n_sims)\n",
    "print(\"The value of the unit-linked contract with continuous guarantee is: \", contract_value, \"±\", SE)\n"
   ]
  },
  {
   "cell_type": "code",
   "execution_count": 14,
   "metadata": {},
   "outputs": [
    {
     "ename": "NameError",
     "evalue": "name 'LinearRegression' is not defined",
     "output_type": "error",
     "traceback": [
      "\u001b[0;31m---------------------------------------------------------------------------\u001b[0m",
      "\u001b[0;31mNameError\u001b[0m                                 Traceback (most recent call last)",
      "Cell \u001b[0;32mIn[14], line 39\u001b[0m\n\u001b[1;32m     36\u001b[0m     option_value \u001b[38;5;241m=\u001b[39m np\u001b[38;5;241m.\u001b[39mmean(cashflows) \u001b[38;5;241m*\u001b[39m np\u001b[38;5;241m.\u001b[39mexp(\u001b[38;5;241m-\u001b[39mr \u001b[38;5;241m*\u001b[39m dt)\n\u001b[1;32m     37\u001b[0m     \u001b[38;5;28;01mreturn\u001b[39;00m option_value\n\u001b[0;32m---> 39\u001b[0m \u001b[43mleast_squares_monte_carlo\u001b[49m\u001b[43m(\u001b[49m\u001b[43mpaths\u001b[49m\u001b[43m,\u001b[49m\u001b[43m \u001b[49m\u001b[43mr\u001b[49m\u001b[43m,\u001b[49m\u001b[43m \u001b[49m\u001b[38;5;241;43m100\u001b[39;49m\u001b[43m,\u001b[49m\u001b[43m \u001b[49m\u001b[43mT\u001b[49m\u001b[43m,\u001b[49m\u001b[43m \u001b[49m\u001b[43mM\u001b[49m\u001b[38;5;241;43m=\u001b[39;49m\u001b[38;5;241;43m100000\u001b[39;49m\u001b[43m)\u001b[49m\n",
      "Cell \u001b[0;32mIn[14], line 26\u001b[0m, in \u001b[0;36mleast_squares_monte_carlo\u001b[0;34m(paths, r, G, T, M)\u001b[0m\n\u001b[1;32m     22\u001b[0m Y \u001b[38;5;241m=\u001b[39m cashflows[itm] \u001b[38;5;241m*\u001b[39m df\n\u001b[1;32m     24\u001b[0m \u001b[38;5;28;01mif\u001b[39;00m \u001b[38;5;28mlen\u001b[39m(X) \u001b[38;5;241m>\u001b[39m \u001b[38;5;241m0\u001b[39m:  \u001b[38;5;66;03m# Avoid empty regression cases\u001b[39;00m\n\u001b[1;32m     25\u001b[0m     \u001b[38;5;66;03m# Regression to estimate continuation value\u001b[39;00m\n\u001b[0;32m---> 26\u001b[0m     reg \u001b[38;5;241m=\u001b[39m \u001b[43mLinearRegression\u001b[49m()\u001b[38;5;241m.\u001b[39mfit(X, Y)\n\u001b[1;32m     27\u001b[0m     continuation_value \u001b[38;5;241m=\u001b[39m reg\u001b[38;5;241m.\u001b[39mpredict(X)\n\u001b[1;32m     29\u001b[0m     \u001b[38;5;66;03m# Decide whether to exercise or continue\u001b[39;00m\n",
      "\u001b[0;31mNameError\u001b[0m: name 'LinearRegression' is not defined"
     ]
    }
   ],
   "source": [
    "def simulate_paths(S0, r, sigma, T, M, N):\n",
    "    dt = T / M\n",
    "    paths = np.zeros((N, M + 1))\n",
    "    paths[:, 0] = S0\n",
    "    for t in range(1, M + 1):\n",
    "        z = np.random.standard_normal(N)\n",
    "        paths[:, t] = paths[:, t - 1] * np.exp((r - 0.5 * sigma**2) * dt + sigma * np.sqrt(dt) * z)\n",
    "    return paths\n",
    "\n",
    "paths = simulate_paths(S0, r, sigma, T, M=100000, N=10)\n",
    "\n",
    "# LSMC valuation\n",
    "def least_squares_monte_carlo(paths, r, G, T, M):\n",
    "    dt = T / M\n",
    "    df = np.exp(-r * dt)  # Discount factor per time step\n",
    "    cashflows = np.maximum(paths[:, -1], G)  # Payoff at maturity\n",
    "    \n",
    "    for t in range(M - 1, 0, -1):\n",
    "        # In-the-money paths\n",
    "        itm = paths[:, t] < G  # In-the-money condition (exercise depends on guarantee)\n",
    "        X = paths[itm, t].reshape(-1, 1)\n",
    "        Y = cashflows[itm] * df\n",
    "        \n",
    "        if len(X) > 0:  # Avoid empty regression cases\n",
    "            # Regression to estimate continuation value\n",
    "            reg = LinearRegression().fit(X, Y)\n",
    "            continuation_value = reg.predict(X)\n",
    "            \n",
    "            # Decide whether to exercise or continue\n",
    "            exercise_value = G - X.flatten()\n",
    "            exercise = exercise_value > continuation_value\n",
    "            cashflows[itm] = np.where(exercise, G, cashflows[itm] * df)\n",
    "        cashflows[~itm] *= df  # Update continuation value for out-of-the-money paths\n",
    "\n",
    "    # Discount back to present value\n",
    "    option_value = np.mean(cashflows) * np.exp(-r * dt)\n",
    "    return option_value\n",
    "\n",
    "least_squares_monte_carlo(paths, r, 100, T, M=100000)"
   ]
  }
 ],
 "metadata": {
  "kernelspec": {
   "display_name": "Python 3 (ipykernel)",
   "language": "python",
   "name": "python3"
  },
  "language_info": {
   "codemirror_mode": {
    "name": "ipython",
    "version": 3
   },
   "file_extension": ".py",
   "mimetype": "text/x-python",
   "name": "python",
   "nbconvert_exporter": "python",
   "pygments_lexer": "ipython3",
   "version": "3.9.13"
  }
 },
 "nbformat": 4,
 "nbformat_minor": 2
}
