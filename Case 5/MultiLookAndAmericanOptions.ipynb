{
 "cells": [
  {
   "cell_type": "code",
   "execution_count": 3,
   "metadata": {},
   "outputs": [],
   "source": [
    "import numpy as np\n",
    "import matplotlib.pyplot as plt\n",
    "import math\n",
    "from scipy.stats import norm\n",
    "from scipy import stats\n",
    "from scipy.integrate import quad\n",
    "import pandas as pd\n",
    "from scipy.stats import norm"
   ]
  },
  {
   "cell_type": "markdown",
   "metadata": {},
   "source": [
    "# Case 5: Multi-Look and American Options"
   ]
  },
  {
   "cell_type": "markdown",
   "metadata": {},
   "source": [
    "## Part 1: Asian Options"
   ]
  },
  {
   "cell_type": "code",
   "execution_count": 4,
   "metadata": {},
   "outputs": [],
   "source": [
    "S0 = 100 \n",
    "r = 0.02 \n",
    "sigma = 0.15\n",
    "T = 10  # Time horizon\n",
    "n = 10  # Number of observations\n",
    "n_sims = 100000  # Number of simulation paths\n",
    "guarantee = 100"
   ]
  },
  {
   "cell_type": "code",
   "execution_count": 9,
   "metadata": {},
   "outputs": [
    {
     "name": "stdout",
     "output_type": "stream",
     "text": [
      "Price of the Asian contract:  15.683419800847233 ± 0.07181925645715698\n"
     ]
    }
   ],
   "source": [
    "def AsianOptionMonteCarlo(S0, T, r, sigma, numSteps, numSim):\n",
    "    dt = T / numSteps \n",
    "\n",
    "    # Stock price paths\n",
    "    S = np.zeros((numSim, numSteps + 1))  \n",
    "    S[:, 0] = S0  \n",
    "\n",
    "    Z = np.random.normal(0, 1, (numSim, numSteps)) \n",
    "    for t in range(1, numSteps + 1):\n",
    "        S[:, t] = S[:, t - 1] * np.exp((r - 0.5 * sigma**2) * dt + sigma * np.sqrt(dt) * Z[:, t - 1])\n",
    "\n",
    "    # Calculate payoff: max(average stock price - 100, 0)\n",
    "    average_price = np.mean(S[:, 1:], axis=1)  # Exclude S[:, 0] (initial price)\n",
    "    payoff = np.maximum(average_price - 100, 0)\n",
    "\n",
    "    discountedPrice = np.exp(-r * T) * np.mean(payoff)\n",
    "    SE = np.exp(-r * T) * np.std(payoff) / np.sqrt(numSim)\n",
    "\n",
    "    return discountedPrice, SE\n",
    "\n",
    "asianOption_price, SE = AsianOptionMonteCarlo(S0, T, r, sigma, numSteps=10, numSim=100000)\n",
    "\n",
    "print(\"Price of the Asian contract: \", asianOption_price, \"±\", SE)"
   ]
  },
  {
   "cell_type": "code",
   "execution_count": null,
   "metadata": {},
   "outputs": [
    {
     "name": "stdout",
     "output_type": "stream",
     "text": [
      "27.571349248747218\n"
     ]
    }
   ],
   "source": [
    "# Second exercise\n",
    "def asian_option_price(S0, r, sigma, T, K):\n",
    "\n",
    "    d1 = (np.log(S0 / K) + (r + 0.5 * sigma**2) * T) / (sigma * np.sqrt(T))\n",
    "    d2 = (np.log(S0 / K) + (r - 0.5 * sigma**2) * T) / (sigma * np.sqrt(T))\n",
    "    \n",
    "    # Price using Black-Scholes\n",
    "    phi = norm.cdf\n",
    "    EU_price = S0 * phi(d1) - np.exp(-r * T) * K * phi(d2)\n",
    "    return EU_price\n",
    "\n",
    "print(asian_option_price(S0, r, sigma, T=10, K=100))"
   ]
  },
  {
   "cell_type": "markdown",
   "metadata": {},
   "source": [
    "# Adapted Black Scholes"
   ]
  },
  {
   "cell_type": "code",
   "execution_count": 7,
   "metadata": {},
   "outputs": [
    {
     "name": "stdout",
     "output_type": "stream",
     "text": [
      "15.973823843043952\n"
     ]
    }
   ],
   "source": [
    "# Last part\n",
    "def compute_moments(S_0, r, sigma, T):\n",
    "    # Number of time steps\n",
    "    N = 10\n",
    "    \n",
    "    # First moment: E_Q[A]\n",
    "    E_Q_A = (1 / N) * sum(S_0 * np.exp(r * np.arange(1, N + 1)))\n",
    "    \n",
    "    # Second moment: E_Q[A^2]\n",
    "    E_Q_A2 = (1 / N**2) * sum(\n",
    "        sum(S_0**2 * np.exp(r * (i + np.arange(1, N + 1)) + sigma**2 * np.minimum(i, np.arange(1, N + 1))))\n",
    "        for i in range(1, N + 1)\n",
    "    )\n",
    "    \n",
    "    # Compute A0 and b\n",
    "    A0 = E_Q_A / np.exp(r * T)\n",
    "    b = np.sqrt((1 / T) * np.log(E_Q_A2 / (A0**2)) - 2 * r)\n",
    "    \n",
    "    return A0, b\n",
    "\n",
    "def asian_option_price(S0, r, sigma, T, K):\n",
    "    moments = compute_moments(S0, r, sigma, T)\n",
    "    A0, b = moments\n",
    "    \n",
    "    # Compute d1 and d2\n",
    "    d1 = (np.log(A0 / K) + (r + 0.5 * b**2) * T) / (b * np.sqrt(T))\n",
    "    d2 = (np.log(A0 / K) + (r - 0.5 * b**2) * T) / (b * np.sqrt(T))\n",
    "    \n",
    "    # Black-Scholes price\n",
    "    phi = norm.cdf\n",
    "    BS_price = A0 * phi(d1) - np.exp(-r * T) * K * phi(d2)\n",
    "    return BS_price\n",
    "\n",
    "# Example usage\n",
    "S_0 = 100   # Initial stock price\n",
    "r = 0.02    # Risk-free rate\n",
    "sigma = 0.15  # Volatility\n",
    "T = 10\n",
    "K = 100\n",
    "\n",
    "print(asian_option_price(S_0, r, sigma, T, K))"
   ]
  },
  {
   "cell_type": "markdown",
   "metadata": {},
   "source": [
    "## Part 2: Unit-linked with continuous guarantee"
   ]
  },
  {
   "cell_type": "code",
   "execution_count": null,
   "metadata": {},
   "outputs": [],
   "source": []
  }
 ],
 "metadata": {
  "kernelspec": {
   "display_name": "3.9.18",
   "language": "python",
   "name": "python3"
  },
  "language_info": {
   "codemirror_mode": {
    "name": "ipython",
    "version": 3
   },
   "file_extension": ".py",
   "mimetype": "text/x-python",
   "name": "python",
   "nbconvert_exporter": "python",
   "pygments_lexer": "ipython3",
   "version": "3.9.18"
  }
 },
 "nbformat": 4,
 "nbformat_minor": 2
}
